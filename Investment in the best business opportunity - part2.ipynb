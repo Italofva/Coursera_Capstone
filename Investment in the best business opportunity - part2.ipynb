{
 "cells": [
  {
   "cell_type": "markdown",
   "metadata": {},
   "source": [
    "<h1 align=center><font size = 5>Investment in action</font></h1>"
   ]
  },
  {
   "cell_type": "markdown",
   "metadata": {},
   "source": [
    "<h2>Business Problem</h2>"
   ]
  },
  {
   "cell_type": "markdown",
   "metadata": {},
   "source": [
    "<font size=3>The main problem for any investor is how, where and in which business to invest. It is for these reasons that through this capstone we will try to give a compass or a north on investments of a certain business based on business categories and their demands.</font>"
   ]
  },
  {
   "cell_type": "markdown",
   "metadata": {},
   "source": [
    "<font size= 3>Knowledge of your environment is of vital importance in any report, which is why you need to know figures or data according to your economic, social and cultural situation in the area.\n",
    "The data to be treated for a better understanding of the problem will be from 3 sources:\n",
    "1. <a href=\"https://es.foursquare.com/\">Forsquare:</a> The pertinent consults will be made to determine the relevant venues to identify the venues categories and determine which businesses would be potential prospects.\n",
    "    \n",
    "\n",
    "2. <a href=\"https://www.inei.gob.pe/\">INEI:</a> The INEI is the National Institute of Statistics and Informatics for its acronym in spanish that can extract information about economics, social and culturals topics that we will help to understand the actual context.\n",
    "    \n",
    "\n",
    "3. <a href=\"#item3\">Websites:</a> Different web pages will give us a vision from another perspective in favor of the contribution of the capstone\n",
    "\n",
    "</font>"
   ]
  },
  {
   "cell_type": "code",
   "execution_count": null,
   "metadata": {},
   "outputs": [],
   "source": []
  }
 ],
 "metadata": {
  "kernelspec": {
   "display_name": "Python 3",
   "language": "python",
   "name": "python3"
  },
  "language_info": {
   "codemirror_mode": {
    "name": "ipython",
    "version": 3
   },
   "file_extension": ".py",
   "mimetype": "text/x-python",
   "name": "python",
   "nbconvert_exporter": "python",
   "pygments_lexer": "ipython3",
   "version": "3.8.3"
  }
 },
 "nbformat": 4,
 "nbformat_minor": 4
}
