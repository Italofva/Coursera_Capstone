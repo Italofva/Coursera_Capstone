{
 "cells": [
  {
   "cell_type": "markdown",
   "metadata": {},
   "source": [
    "<h1 align=center><font size = 5>Investment in action</font></h1>"
   ]
  },
  {
   "cell_type": "markdown",
   "metadata": {},
   "source": [
    "<h2>Introduction</h2>"
   ]
  },
  {
   "cell_type": "markdown",
   "metadata": {},
   "source": [
    "<font size=3>Within the investment world, the type of business to be bet on always goes hand in hand with key aspects such as the strength of demand, the concept of the brand, innovation and a good cost and budget plan.\n",
    "    \n",
    " Within the South American region, the gastronomic and tourist capital par excellence is Peru, this is demonstrated by being awarded by The World Travel Awards for the eighth consecutive year as **\"Best culinary destination in the world\"** in addition to having also been awarded as **\"Best cultural destination in the world\"**.</font>"
   ]
  },
  {
   "cell_type": "markdown",
   "metadata": {},
   "source": [
    "<img src = \"http://www.amigastronomicas.com/wp-content/uploads/2019/11/peru-world-cook-awards-2019.jpg\" width = 300 align = left>\n",
    "<img src =\"https://www.prensalibre.com/wp-content/uploads/2019/11/Machu-Picchu.jpg?quality=82&w=760\" width = 300 align = center>"
   ]
  },
  {
   "cell_type": "markdown",
   "metadata": {},
   "source": [
    "<font size = 3>The investor profile will indicate the relationship between the risk you are willing to take and the returns you expect to obtain. Taking this into account, the investment profiles are:\n",
    "\n",
    "**1. Risky:** It is the investor who already knows and controls the financial world, is willing to risk his capital with the possibility of achieving greater profitability. Typically you will invest money in equities with short or very short terms.\n",
    "    \n",
    "    \n",
    "**2. Conservative:** He is an investor who will prefer to keep his capital safe even if this means a lower profitability. You are going to make investments in fixed income and they are usually medium-long term.\n",
    "    \n",
    "**3. Moderate:** This investor is between the risky and the conservative, because he wants to receive more profitability but \n",
    "</font>"
   ]
  },
  {
   "cell_type": "markdown",
   "metadata": {},
   "source": [
    "<font size=3>With all these points mentioned above in mind, we have a guide on how to start tackling the underlying problem.</font>"
   ]
  },
  {
   "cell_type": "code",
   "execution_count": null,
   "metadata": {},
   "outputs": [],
   "source": []
  }
 ],
 "metadata": {
  "kernelspec": {
   "display_name": "Python 3",
   "language": "python",
   "name": "python3"
  },
  "language_info": {
   "codemirror_mode": {
    "name": "ipython",
    "version": 3
   },
   "file_extension": ".py",
   "mimetype": "text/x-python",
   "name": "python",
   "nbconvert_exporter": "python",
   "pygments_lexer": "ipython3",
   "version": "3.8.3"
  }
 },
 "nbformat": 4,
 "nbformat_minor": 4
}
